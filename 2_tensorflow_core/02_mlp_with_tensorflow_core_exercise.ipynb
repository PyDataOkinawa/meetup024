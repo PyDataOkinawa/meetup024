{
 "cells": [
  {
   "cell_type": "markdown",
   "metadata": {},
   "source": [
    "# TensorFlow Coreで多層パーセプトロン\n",
    "\n",
    "参考資料\n",
    "\n",
    "- https://github.com/aymericdamien/TensorFlow-Examples/blob/master/notebooks/4_Utils/tensorboard_basic.ipynb"
   ]
  },
  {
   "cell_type": "code",
   "execution_count": 1,
   "metadata": {
    "collapsed": true
   },
   "outputs": [],
   "source": [
    "%matplotlib inline\n",
    "import matplotlib.pyplot as plt\n",
    "import numpy as np"
   ]
  },
  {
   "cell_type": "code",
   "execution_count": 2,
   "metadata": {
    "collapsed": true
   },
   "outputs": [],
   "source": [
    "# TensorFlowの読み込み\n",
    "<--- FILL_IN -->"
   ]
  },
  {
   "cell_type": "code",
   "execution_count": 3,
   "metadata": {
    "collapsed": false
   },
   "outputs": [],
   "source": [
    "# graphs02ディレクトリがあったら削除\n",
    "if tf.gfile.Exists('./graphs02'):\n",
    "    tf.gfile.DeleteRecursively('./graphs02/')"
   ]
  },
  {
   "cell_type": "code",
   "execution_count": 4,
   "metadata": {
    "collapsed": false,
    "scrolled": true
   },
   "outputs": [
    {
     "name": "stdout",
     "output_type": "stream",
     "text": [
      "Successfully downloaded train-images-idx3-ubyte.gz 9912422 bytes.\n",
      "Extracting ../datasets/mnist/train-images-idx3-ubyte.gz\n",
      "Successfully downloaded train-labels-idx1-ubyte.gz 28881 bytes.\n",
      "Extracting ../datasets/mnist/train-labels-idx1-ubyte.gz\n",
      "Successfully downloaded t10k-images-idx3-ubyte.gz 1648877 bytes.\n",
      "Extracting ../datasets/mnist/t10k-images-idx3-ubyte.gz\n",
      "Successfully downloaded t10k-labels-idx1-ubyte.gz 4542 bytes.\n",
      "Extracting ../datasets/mnist/t10k-labels-idx1-ubyte.gz\n"
     ]
    }
   ],
   "source": [
    "# MNIST データセットの読み込み\n",
    "from tensorflow.examples.tutorials.mnist import input_data\n",
    "mnist = input_data.read_data_sets('../datasets/mnist/', one_hot=True)"
   ]
  },
  {
   "cell_type": "code",
   "execution_count": 5,
   "metadata": {
    "collapsed": false
   },
   "outputs": [
    {
     "name": "stdout",
     "output_type": "stream",
     "text": [
      "(55000, 784)\n",
      "(5000, 784)\n",
      "(10000, 784)\n"
     ]
    }
   ],
   "source": [
    "print(mnist.train.images.shape)\n",
    "print(mnist.validation.images.shape)\n",
    "print(mnist.test.images.shape)"
   ]
  },
  {
   "cell_type": "code",
   "execution_count": 6,
   "metadata": {
    "collapsed": false
   },
   "outputs": [
    {
     "name": "stdout",
     "output_type": "stream",
     "text": [
      "(55000, 10)\n",
      "(5000, 10)\n",
      "(10000, 10)\n"
     ]
    }
   ],
   "source": [
    "print(mnist.train.labels.shape)\n",
    "print(mnist.validation.labels.shape)\n",
    "print(mnist.test.labels.shape)"
   ]
  },
  {
   "cell_type": "code",
   "execution_count": 7,
   "metadata": {
    "collapsed": false
   },
   "outputs": [
    {
     "name": "stdout",
     "output_type": "stream",
     "text": [
      "[7 3 4 6 1 8 1 0 9 8]\n"
     ]
    },
    {
     "data": {
      "image/png": "[encoded data removed]",
      "text/plain": [
       "<matplotlib.figure.Figure at 0x11aa374d0>"
      ]
     },
     "metadata": {},
     "output_type": "display_data"
    }
   ],
   "source": [
    "# 画像とラベルを確認\n",
    "fig, ax = plt.subplots(1, 10)\n",
    "for ii in range(10):\n",
    "    ax[ii].imshow(mnist.train.images[ii].reshape([28, 28]), 'gray')\n",
    "    ax[ii].axis('off')\n",
    "    \n",
    "print(np.argmax(mnist.train.labels[:10], axis=1))"
   ]
  },
  {
   "cell_type": "code",
   "execution_count": 8,
   "metadata": {
    "collapsed": true
   },
   "outputs": [],
   "source": [
    "# ハイパーパラメータ\n",
    "learning_rate = 0.01\n",
    "training_epochs = 150\n",
    "batch_size = 100\n",
    "display_step = 1  # エポック\n",
    "logdir = './graphs02'"
   ]
  },
  {
   "cell_type": "code",
   "execution_count": 9,
   "metadata": {
    "collapsed": true
   },
   "outputs": [],
   "source": [
    "x = tf.placeholder(<--- FILL_IN -->, name='InputData')"
   ]
  },
  {
   "cell_type": "code",
   "execution_count": 10,
   "metadata": {
    "collapsed": true
   },
   "outputs": [],
   "source": [
    "y = tf.placeholder(<--- FILL_IN -->, name='LabelData')"
   ]
  },
  {
   "cell_type": "code",
   "execution_count": 11,
   "metadata": {
    "collapsed": false
   },
   "outputs": [],
   "source": [
    "# パラメータ\n",
    "W = tf.Variable(<--- FILL_IN -->, name='Weights')\n",
    "b =  tf.Variable(<--- FILL_IN -->, name='Bias')"
   ]
  },
  {
   "cell_type": "markdown",
   "metadata": {},
   "source": [
    "TensorBoardでみやすくなるようスコープに入れていく"
   ]
  },
  {
   "cell_type": "code",
   "execution_count": 12,
   "metadata": {
    "collapsed": false
   },
   "outputs": [],
   "source": [
    "# Model\n",
    "#with tf.name_scope('Model'):\n",
    "logit = <--- FILL_IN -->\n",
    "pred = <--- FILL_IN -->\n",
    "\n",
    "#with tf.name_scope('Loss'):\n",
    "# 数値的に不安定な実装なので要注意\n",
    "loss = tf.reduce_mean(- tf.reduce_sum(y * tf.log(pred), reduction_indices=1))\n",
    "# 数値的に安定な実装\n",
    "#loss = tf.reduce_mean(tf.nn.softmax_cross_entropy_with_logits(labels=y, logits=logit))\n",
    "\n",
    "#with tf.name_scope('SGD'):\n",
    "optimizer = tf.train.GradientDescentOptimizer(learning_rate)\n",
    "train_op = optimizer.minimize(loss)\n",
    "\n",
    "#with tf.name_scope('Accuracy'):\n",
    "accuracy = tf.equal(tf.argmax(pred, 1), tf.argmax(y, 1))\n",
    "accuracy = tf.reduce_mean(tf.cast(accuracy, tf.float32))"
   ]
  },
  {
   "cell_type": "code",
   "execution_count": 13,
   "metadata": {
    "collapsed": true
   },
   "outputs": [],
   "source": [
    "# 変数の初期化\n",
    "init = tf.global_variables_initializer()"
   ]
  },
  {
   "cell_type": "code",
   "execution_count": 14,
   "metadata": {
    "collapsed": true
   },
   "outputs": [],
   "source": [
    "tf.summary.scalar('loss', loss)\n",
    "tf.summary.scalar('accuracy', accuracy)\n",
    "summary_op = tf.summary.merge_all()"
   ]
  },
  {
   "cell_type": "markdown",
   "metadata": {},
   "source": [
    "tensorboardを立ち上げるには以下のコードを打つ\n",
    "\n",
    "```\n",
    "tensorboard --logdir='./graphs02' --port=6006\n",
    "```"
   ]
  },
  {
   "cell_type": "code",
   "execution_count": 15,
   "metadata": {
    "collapsed": false,
    "scrolled": false
   },
   "outputs": [
    {
     "name": "stdout",
     "output_type": "stream",
     "text": [
      "Epoch: 0001\tloss=1.182138977\n",
      "Epoch: 0002\tloss=0.664864006\n",
      "Epoch: 0003\tloss=0.552722159\n",
      "Epoch: 0004\tloss=0.498580589\n",
      "Epoch: 0005\tloss=0.465426097\n",
      "Epoch: 0006\tloss=0.442517466\n",
      "Epoch: 0007\tloss=0.425496633\n",
      "Epoch: 0008\tloss=0.412161075\n",
      "Epoch: 0009\tloss=0.401377534\n",
      "Epoch: 0010\tloss=0.392364444\n",
      "Epoch: 0011\tloss=0.384745599\n",
      "Epoch: 0012\tloss=0.378181210\n",
      "Epoch: 0013\tloss=0.372383892\n",
      "Epoch: 0014\tloss=0.367259446\n",
      "Epoch: 0015\tloss=0.362735458\n",
      "Epoch: 0016\tloss=0.358625943\n",
      "Epoch: 0017\tloss=0.354862406\n",
      "Epoch: 0018\tloss=0.351421507\n",
      "Epoch: 0019\tloss=0.348302729\n",
      "Epoch: 0020\tloss=0.345437834\n",
      "Epoch: 0021\tloss=0.342757323\n",
      "Epoch: 0022\tloss=0.340259596\n",
      "Epoch: 0023\tloss=0.337934527\n",
      "Epoch: 0024\tloss=0.335723863\n",
      "Epoch: 0025\tloss=0.333680611\n",
      "Epoch: 0026\tloss=0.331767988\n",
      "Epoch: 0027\tloss=0.329927035\n",
      "Epoch: 0028\tloss=0.328229408\n",
      "Epoch: 0029\tloss=0.326570479\n",
      "Epoch: 0030\tloss=0.325041036\n",
      "Epoch: 0031\tloss=0.323550823\n",
      "Epoch: 0032\tloss=0.322170441\n",
      "Epoch: 0033\tloss=0.320854678\n",
      "Epoch: 0034\tloss=0.319540709\n",
      "Epoch: 0035\tloss=0.318313920\n",
      "Epoch: 0036\tloss=0.317110676\n",
      "Epoch: 0037\tloss=0.315946566\n",
      "Epoch: 0038\tloss=0.314876854\n",
      "Epoch: 0039\tloss=0.313845288\n",
      "Epoch: 0040\tloss=0.312827199\n",
      "Epoch: 0041\tloss=0.311854460\n",
      "Epoch: 0042\tloss=0.310961392\n",
      "Epoch: 0043\tloss=0.310066763\n",
      "Epoch: 0044\tloss=0.309157971\n",
      "Epoch: 0045\tloss=0.308296425\n",
      "Epoch: 0046\tloss=0.307512484\n",
      "Epoch: 0047\tloss=0.306692274\n",
      "Epoch: 0048\tloss=0.305943961\n",
      "Epoch: 0049\tloss=0.305199030\n",
      "Epoch: 0050\tloss=0.304499896\n",
      "Epoch: 0051\tloss=0.303784798\n",
      "Epoch: 0052\tloss=0.303091560\n",
      "Epoch: 0053\tloss=0.302425035\n",
      "Epoch: 0054\tloss=0.301813323\n",
      "Epoch: 0055\tloss=0.301110313\n",
      "Epoch: 0056\tloss=0.300576710\n",
      "Epoch: 0057\tloss=0.299892147\n",
      "Epoch: 0058\tloss=0.299371618\n",
      "Epoch: 0059\tloss=0.298819194\n",
      "Epoch: 0060\tloss=0.298249699\n",
      "Epoch: 0061\tloss=0.297726261\n",
      "Epoch: 0062\tloss=0.297157229\n",
      "Epoch: 0063\tloss=0.296672207\n",
      "Epoch: 0064\tloss=0.296173303\n",
      "Epoch: 0065\tloss=0.295695172\n",
      "Epoch: 0066\tloss=0.295194294\n",
      "Epoch: 0067\tloss=0.294727604\n",
      "Epoch: 0068\tloss=0.294272715\n",
      "Epoch: 0069\tloss=0.293746761\n",
      "Epoch: 0070\tloss=0.293376918\n",
      "Epoch: 0071\tloss=0.292926875\n",
      "Epoch: 0072\tloss=0.292482903\n",
      "Epoch: 0073\tloss=0.292113832\n",
      "Epoch: 0074\tloss=0.291688392\n",
      "Epoch: 0075\tloss=0.291285305\n",
      "Epoch: 0076\tloss=0.290895190\n",
      "Epoch: 0077\tloss=0.290508820\n",
      "Epoch: 0078\tloss=0.290096294\n",
      "Epoch: 0079\tloss=0.289733177\n",
      "Epoch: 0080\tloss=0.289397306\n",
      "Epoch: 0081\tloss=0.289007153\n",
      "Epoch: 0082\tloss=0.288605595\n",
      "Epoch: 0083\tloss=0.288368577\n",
      "Epoch: 0084\tloss=0.287983903\n",
      "Epoch: 0085\tloss=0.287665651\n",
      "Epoch: 0086\tloss=0.287299205\n",
      "Epoch: 0087\tloss=0.286996726\n",
      "Epoch: 0088\tloss=0.286673574\n",
      "Epoch: 0089\tloss=0.286371618\n",
      "Epoch: 0090\tloss=0.286076308\n",
      "Epoch: 0091\tloss=0.285758948\n",
      "Epoch: 0092\tloss=0.285431494\n",
      "Epoch: 0093\tloss=0.285139704\n",
      "Epoch: 0094\tloss=0.284857827\n",
      "Epoch: 0095\tloss=0.284593486\n",
      "Epoch: 0096\tloss=0.284317819\n",
      "Epoch: 0097\tloss=0.284035298\n",
      "Epoch: 0098\tloss=0.283763966\n",
      "Epoch: 0099\tloss=0.283486421\n",
      "Epoch: 0100\tloss=0.283254375\n",
      "Epoch: 0101\tloss=0.282938911\n",
      "Epoch: 0102\tloss=0.282675077\n",
      "Epoch: 0103\tloss=0.282451535\n",
      "Epoch: 0104\tloss=0.282211492\n",
      "Epoch: 0105\tloss=0.281921748\n",
      "Epoch: 0106\tloss=0.281709577\n",
      "Epoch: 0107\tloss=0.281472916\n",
      "Epoch: 0108\tloss=0.281238159\n",
      "Epoch: 0109\tloss=0.281001950\n",
      "Epoch: 0110\tloss=0.280758852\n",
      "Epoch: 0111\tloss=0.280522217\n",
      "Epoch: 0112\tloss=0.280305798\n",
      "Epoch: 0113\tloss=0.280088773\n",
      "Epoch: 0114\tloss=0.279818565\n",
      "Epoch: 0115\tloss=0.279619310\n",
      "Epoch: 0116\tloss=0.279389020\n",
      "Epoch: 0117\tloss=0.279168987\n",
      "Epoch: 0118\tloss=0.279008174\n",
      "Epoch: 0119\tloss=0.278793902\n",
      "Epoch: 0120\tloss=0.278590323\n",
      "Epoch: 0121\tloss=0.278395834\n",
      "Epoch: 0122\tloss=0.278169171\n",
      "Epoch: 0123\tloss=0.277981341\n",
      "Epoch: 0124\tloss=0.277766725\n",
      "Epoch: 0125\tloss=0.277588521\n",
      "Epoch: 0126\tloss=0.277410964\n",
      "Epoch: 0127\tloss=0.277197864\n",
      "Epoch: 0128\tloss=0.276945472\n",
      "Epoch: 0129\tloss=0.276837570\n",
      "Epoch: 0130\tloss=0.276657675\n",
      "Epoch: 0131\tloss=0.276439044\n",
      "Epoch: 0132\tloss=0.276314736\n",
      "Epoch: 0133\tloss=0.276108843\n",
      "Epoch: 0134\tloss=0.275922159\n",
      "Epoch: 0135\tloss=0.275766552\n",
      "Epoch: 0136\tloss=0.275570240\n",
      "Epoch: 0137\tloss=0.275386010\n",
      "Epoch: 0138\tloss=0.275225037\n",
      "Epoch: 0139\tloss=0.275077004\n",
      "Epoch: 0140\tloss=0.274891637\n",
      "Epoch: 0141\tloss=0.274715700\n",
      "Epoch: 0142\tloss=0.274593205\n",
      "Epoch: 0143\tloss=0.274397498\n",
      "Epoch: 0144\tloss=0.274278519\n",
      "Epoch: 0145\tloss=0.274066137\n",
      "Epoch: 0146\tloss=0.273941458\n",
      "Epoch: 0147\tloss=0.273796597\n",
      "Epoch: 0148\tloss=0.273637621\n",
      "Epoch: 0149\tloss=0.273435221\n",
      "Epoch: 0150\tloss=0.273359896\n"
     ]
    }
   ],
   "source": [
    "with tf.Session() as sess:\n",
    "    sess.run(init)\n",
    "    \n",
    "    # ログのTensorBoardへの書き出し\n",
    "    summary_writer = tf.summary.FileWriter(logdir, graph=tf.get_default_graph())\n",
    "    \n",
    "    #　学習\n",
    "    for epoch in range(training_epochs):\n",
    "        \n",
    "        average_loss = 0.\n",
    "        total_batch = int(mnist.train.num_examples / batch_size)\n",
    "        \n",
    "        for i in range(total_batch):\n",
    "            \n",
    "            # ミニバッチを取得\n",
    "            batch_xs, batch_ys = mnist.train.next_batch(batch_size)\n",
    "            \n",
    "            # 計算グラフを実行\n",
    "            _, loss_value, summary = sess.run([train_op, loss, summary_op],\n",
    "                                             feed_dict={x: batch_xs, y: batch_ys})\n",
    "            \n",
    "            #  ステップごとにログを書き出す\n",
    "            summary_writer.add_summary(summary, epoch * total_batch + i)\n",
    "            \n",
    "            # 平均損失を計算\n",
    "            average_loss += loss_value / total_batch\n",
    "            \n",
    "        # エポックの平均損失を時々表示\n",
    "        if (epoch + 1) % display_step == 0:\n",
    "            print(\"Epoch: %04d\\tloss=%.9f\" % (epoch+1, average_loss))"
   ]
  },
  {
   "cell_type": "code",
   "execution_count": null,
   "metadata": {
    "collapsed": true
   },
   "outputs": [],
   "source": []
  }
 ],
 "metadata": {
  "kernelspec": {
   "display_name": "Python 2",
   "language": "python",
   "name": "python2"
  },
  "language_info": {
   "codemirror_mode": {
    "name": "ipython",
    "version": 2
   },
   "file_extension": ".py",
   "mimetype": "text/x-python",
   "name": "python",
   "nbconvert_exporter": "python",
   "pygments_lexer": "ipython2",
   "version": "2.7.13"
  }
 },
 "nbformat": 4,
 "nbformat_minor": 2
}
